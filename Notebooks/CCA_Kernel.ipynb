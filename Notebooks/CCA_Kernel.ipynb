{
  "nbformat": 4,
  "nbformat_minor": 0,
  "metadata": {
    "colab": {
      "private_outputs": true,
      "provenance": []
    },
    "kernelspec": {
      "name": "python3",
      "display_name": "Python 3"
    },
    "language_info": {
      "name": "python"
    }
  },
  "cells": [
    {
      "cell_type": "markdown",
      "source": [
        "#Imports"
      ],
      "metadata": {
        "id": "qHtRMT15I_B7"
      }
    },
    {
      "cell_type": "code",
      "source": [
        "import numpy as np\n",
        "from scipy.spatial.distance import cdist, squareform\n",
        "from sklearn.cross_decomposition import CCA\n",
        "import matplotlib.pyplot as plt\n",
        "from sklearn.preprocessing import MinMaxScaler, StandardScaler\n",
        "from scipy.special import softmax\n",
        "\n",
        "import pandas as pd\n",
        "import seaborn as sns\n",
        "from google.colab import drive\n",
        "\n",
        "drive.mount('/content/gdrive',force_remount=True)"
      ],
      "metadata": {
        "id": "KZweKhbEJBxi"
      },
      "execution_count": null,
      "outputs": []
    },
    {
      "cell_type": "markdown",
      "source": [
        "# Load Data"
      ],
      "metadata": {
        "id": "RYw20I_aIJxX"
      }
    },
    {
      "cell_type": "code",
      "source": [
        "with open('/content/gdrive/MyDrive/measures_marcos/tabular_data.npy', 'rb') as f:\n",
        "    questionnaire_data = np.load(f)\n",
        "with open('/content/gdrive/MyDrive/measures_marcos/tabular_names.npy', 'rb') as f:\n",
        "    questionnaire_names = np.load(f)\n",
        "with open('/content/gdrive/MyDrive/measures_marcos/InterModel_MetricData.npy', 'rb') as f:\n",
        "    metric_data = np.load(f)\n",
        "\n",
        "questionnaire_data = np.delete(questionnaire_data, (28,33), axis=0) #Delete missing subjects"
      ],
      "metadata": {
        "id": "WLvuash3IMK-"
      },
      "execution_count": null,
      "outputs": []
    },
    {
      "cell_type": "code",
      "source": [
        "plt.boxplot(metric_data)\n",
        "plt.show()"
      ],
      "metadata": {
        "id": "75JgA103ztb4"
      },
      "execution_count": null,
      "outputs": []
    },
    {
      "cell_type": "markdown",
      "source": [
        "## Normalize questionnaire data"
      ],
      "metadata": {
        "id": "XtrG3-EkIQh5"
      }
    },
    {
      "cell_type": "code",
      "source": [
        "min_tabular = [1,18,1,0,1,1,1,1,0,1,1,1,1,1,0,1,0,0,1,1,\n",
        "               1,1,1,1,0,0,1,1,1,1,1,1,0,0,1,1,1,1,1,1,\n",
        "               0,0,1,1,1,1,1,1,0,0,1,0] #Minimos valores posibles\n",
        "\n",
        "max_tabular = [4,33,5,24,5,5,5,5,100,5,5,5,5,5,8,5,6,100,\n",
        "               5,5,5,5,5,5,4.5,100,5,5,5,5,5,5,4,100,5,5,\n",
        "               5,5,5,5,5,100,5,5,5,5,5,5,3,100,5,100] # Maximos valores posibles\n",
        "\n",
        "norm_tabular = (questionnaire_data - min_tabular)\n",
        "norm_tabular /= (np.array(max_tabular) - np.array(min_tabular))\n",
        "\n",
        "# Reajuste para la pregunta sobre cafe\n",
        "# El no tomar cafe (0) es más cercano a 24 horas (1) que haber tomado hace 1h (0.04)\n",
        "norm_tabular[np.where(norm_tabular[:,3]==0)[0], 3] += 1\n",
        "\n",
        "norm_tabular.shape, metric_data.shape"
      ],
      "metadata": {
        "id": "H3JTr-LAI7NP"
      },
      "execution_count": null,
      "outputs": []
    },
    {
      "cell_type": "code",
      "source": [
        "#subjects groups\n",
        "g1 = [0, 2, 3, 4, 5, 9, 12, 13, 22, 25, 27, 32, 34, 38, 40, 41, 43, 44, 45, 46, 47]\n",
        "g2 = [7, 8, 11, 14, 17, 19, 20, 21, 23, 24, 29, 33, 36, 39, 42, 48, 49]\n",
        "g3 = [1, 6, 10, 15, 16, 18, 26, 28, 30, 31, 35, 37]\n",
        "g_ = [g1,g2,g3]\n",
        "group_ = np.zeros((50,1))\n",
        "group_[g1] = 1\n",
        "group_[g2] = 2\n",
        "group_[g3] = 3"
      ],
      "metadata": {
        "id": "_I8cU83hux5L"
      },
      "execution_count": null,
      "outputs": []
    },
    {
      "cell_type": "code",
      "source": [
        "plt.pcolormesh(norm_tabular)\n",
        "plt.colorbar()\n",
        "plt.show()\n",
        "\n",
        "plt.pcolormesh(metric_data)\n",
        "plt.colorbar()\n",
        "plt.show()"
      ],
      "metadata": {
        "id": "FqrFXQKCX5Fs"
      },
      "execution_count": null,
      "outputs": []
    },
    {
      "cell_type": "code",
      "execution_count": null,
      "metadata": {
        "id": "WcamsZ7wduu5"
      },
      "outputs": [],
      "source": [
        "#np.corrcoef(X[:,0],X[:,2])[0,1]\n",
        "\n",
        "def fro_p(X,Y): #X, Y \\in NxM,\n",
        "  return np.trace(X.T.dot(Y))\n",
        "\n",
        "def cca_M(X,Y): # X \\in N x P, Y \\in N x M\n",
        "  Cxx = X.T.dot(X)\n",
        "  Cyy = Y.T.dot(Y)\n",
        "  Cxy = X.T.dot(Y)\n",
        "  return fro_p(Cxy,Cxy)/np.sqrt(fro_p(Cxx,Cxx)*fro_p(Cyy,Cyy))\n",
        "\n",
        "def sig_feature(X, bias=0):\n",
        "  N,P = X.shape\n",
        "  sig_f = np.zeros((P))\n",
        "  K_f = np.zeros((N,N,P))\n",
        "  for p in range(P):\n",
        "    Df = cdist(X[:,p].reshape(-1,1),X[:,p].reshape(-1,1))\n",
        "    sig_f[p] = np.median(squareform(0.5*(Df+Df.T))) + bias\n",
        "    K_f[:,:,p] = np.exp(-Df**2/(2*sig_f[p]**2))\n",
        "  return K_f, sig_f\n",
        "\n",
        "\n",
        "\n",
        "def cca_k(X, Y, n_components='full',normalize_ = True):\n",
        "    N,P = X.shape\n",
        "    N,Q = Y.shape\n",
        "\n",
        "\n",
        "    if n_components == 'full':\n",
        "        n_components = min(P,Q)\n",
        "\n",
        "    #linear cca\n",
        "    cca_X = CCA(n_components=n_components)\n",
        "\n",
        "    if normalize_:\n",
        "        scaler = MinMaxScaler() #StandardScaler()\n",
        "        X = scaler.fit_transform(X)\n",
        "        Y = scaler.fit_transform(Y)\n",
        "\n",
        "\n",
        "\n",
        "    X_c,Y_c = cca_X.fit_transform(X, Y) #\\in Real N x ncomponents\n",
        "    #x_rotations_ \\in Real P x ncomponents\n",
        "    XY_c = X_c.T.dot(Y_c) #cross covariance after cca \\in Real ncomponents x ncomponents\n",
        "    XY_N = X_c.dot(Y_c.T)\n",
        "\n",
        "\n",
        "    temp=1\n",
        "    rel_x = softmax(np.sum(np.diag(np.diag(XY_c)).dot(np.abs(cca_X.x_rotations_.T)),axis=0)/temp)\n",
        "    rel_y = softmax(np.sum(np.diag(np.diag(XY_c)).dot(np.abs(cca_X.y_rotations_.T)),axis=0)/temp)\n",
        "\n",
        "    rel_x /= np.max(rel_x)\n",
        "    rel_y /= np.max(rel_y)\n",
        "\n",
        "    #kernel and sigma per feature\n",
        "    K_fX,sig_X = sig_feature(X, bias=1e-8)\n",
        "    K_fY,sig_Y = sig_feature(Y, bias=1e-8)\n",
        "\n",
        "    #mean kernel for each feature\n",
        "    K_fXX = K_fX.mean(axis=0) #in Real N x P\n",
        "    K_fYY = K_fY.mean(axis=0) #in Real N x Q\n",
        "\n",
        "    # print(sig_Y)\n",
        "    # plt.pcolormesh(K_fYY)\n",
        "    # plt.show()\n",
        "    if normalize_:\n",
        "      scaler = MinMaxScaler() #StandardScaler()\n",
        "      K_fXX = scaler.fit_transform(K_fXX)\n",
        "      K_fYY = scaler.fit_transform(K_fYY)\n",
        "\n",
        "    #kernel cca\n",
        "    cca_K = CCA(n_components=n_components)\n",
        "    KX_c,KY_c = cca_K.fit_transform(K_fXX, K_fYY) #\\in Real N x ncomponents\n",
        "    KXY_c = KX_c.T.dot(KY_c) #cross covariance after cca\n",
        "    KXY_N = KX_c.dot(KY_c.T)\n",
        "\n",
        "    KXY_c = KX_c.T.dot(KY_c) #cross covariance after cca \\in Real ncomponents x ncomponents\n",
        "\n",
        "    Ktemp = 1\n",
        "    Krel_x = np.sum(np.diag(np.diag(KXY_c)).dot(np.abs(cca_K.x_rotations_.T)),axis=0)#softmax(np.sum(np.diag(np.diag(KXY_c)).dot(np.abs(cca_K.x_rotations_.T)),axis=0) / Ktemp)\n",
        "    Krel_y = np.sum(np.diag(np.diag(KXY_c)).dot(np.abs(cca_K.y_rotations_.T)),axis=0) #softmax(np.sum(np.diag(np.diag(KXY_c)).dot(np.abs(cca_K.y_rotations_.T)),axis=0) / Ktemp)\n",
        "\n",
        "    Krel_x /= np.max(Krel_x)\n",
        "    Krel_y /= np.max(Krel_y)\n",
        "\n",
        "\n",
        "    return XY_c, XY_N, rel_x, rel_y, KXY_c, KXY_N, Krel_x, Krel_y, sig_X, sig_Y\n",
        "\n"
      ]
    },
    {
      "cell_type": "code",
      "source": [
        "# Set the parameters for the multidimensional Gaussian distribution\n",
        "mean = np.zeros(5)  # 5-dimensional Gaussian, mean of 0 for each feature\n",
        "covariance_matrix = np.array([[1, 0.5, 0.3, 0.2, 0.1],\n",
        "                              [0.5, 2, 0.4, 0.3, 0.2],\n",
        "                              [0.3, 0.4, 3, 0.5, 0.3],\n",
        "                              [0.2, 0.3, 0.5, 0.8, 0.4],\n",
        "                              [0.1, 0.2, 0.3, 0.4, 0.6]])  # Fixed covariance matrix\n",
        "\n",
        "# Generate 100 samples from the Gaussian distribution\n",
        "X = np.copy(norm_tabular) #np.random.multivariate_normal(mean, covariance_matrix, 100)\n",
        "\n",
        "# Set new parameters for a 3-dimensional Gaussian\n",
        "mean_3d = np.zeros(3)  # 3-dimensional Gaussian, mean of 0 for each feature\n",
        "covariance_matrix_3d = np.array([[1, 0.5, 0.3],\n",
        "                                 [0.5, 2, 0.4],\n",
        "                                 [0.3, 0.4, 3]])  # Fixed covariance matrix for 3 features\n",
        "\n",
        "# Generate 100 samples from the 3-dimensional Gaussian distribution\n",
        "model_list =  ['EEGNet', 'KREEGNet', 'KCS-FCNet', 'DeepConvNet', 'ShallowConvNet', 'TCNet_fusion']\n",
        "i = model_list.index('EEGNet')\n",
        "Y = np.copy(metric_data)#[:,i:(i+1)*6] #np.random.multivariate_normal(mean_3d, covariance_matrix_3d, 100)\n",
        "# for i in range(36):\n",
        "#     min_val = np.min(Y[:,i])\n",
        "#     max_val = np.max(Y[:,i])\n",
        "#     if min_val<0 or max_val>1:\n",
        "#         Y[:,i] -= min_val\n",
        "#         Y[:,i] /= max_val-min_val"
      ],
      "metadata": {
        "id": "PfhtcO13GGwx"
      },
      "execution_count": null,
      "outputs": []
    },
    {
      "cell_type": "code",
      "source": [
        "np.min(Y), np.max(Y)"
      ],
      "metadata": {
        "id": "wTzQn_r0ZLc1"
      },
      "execution_count": null,
      "outputs": []
    },
    {
      "cell_type": "code",
      "source": [
        "XY_c, XY_N, rel_x, rel_y, KXY_c, KXY_N, Krel_x, Krel_y, sig_X, sig_Y = cca_k(X,Y,n_components='full',normalize_=False)"
      ],
      "metadata": {
        "id": "KxVJxhliM_do"
      },
      "execution_count": null,
      "outputs": []
    },
    {
      "cell_type": "code",
      "source": [
        "from matplotlib import colormaps\n",
        "pastel_colors = colormaps['Pastel1']\n",
        "pastel_colors = pastel_colors(np.linspace(0, 1, 7))\n",
        "pastel_colors2 = colormaps['Pastel2']\n",
        "pastel_colors2 = pastel_colors2(np.linspace(0, 1, 6))\n",
        "model_colors = np.array([[pastel_colors[x]]*5 for x in range(6)]).reshape(30,4)"
      ],
      "metadata": {
        "id": "xlFkdHBPcnJd"
      },
      "execution_count": null,
      "outputs": []
    },
    {
      "cell_type": "code",
      "source": [
        "# Bar width\n",
        "bar_width = 0.4\n",
        "q_ticks = [0,9,19,29,39,49]\n",
        "\n",
        "# X positions for the bars\n",
        "xx = np.arange(len(rel_x))\n",
        "\n",
        "# Create the plot\n",
        "fig, ax = plt.subplots()\n",
        "\n",
        "# Plotting two bars in the same position\n",
        "bar1 = ax.bar(xx - bar_width/2, rel_x, bar_width, label='CCA', color='#1f78b4', edgecolor='k', zorder=3)\n",
        "bar2 = ax.bar(xx + bar_width/2, Krel_x, bar_width, label='CCA K', color='#fe7f0e', edgecolor='k', zorder=3)\n",
        "\n",
        "# Add labels, title, and customizations\n",
        "ax.set_xlabel('Features')\n",
        "ax.set_ylabel('Relevance Value')\n",
        "#ax.set_xticks(xx)\n",
        "#ax.set_xticklabels(categories)\n",
        "ax.legend()\n",
        "#Backgrounds\n",
        "plt.axvline(4.5, lw= 75, c=pastel_colors[0], zorder=1)\n",
        "plt.axvline(13, lw= 65, c=pastel_colors[1], zorder=1)\n",
        "plt.axvline(21.5, lw= 58.5, c=pastel_colors[2], zorder=1)\n",
        "plt.axvline(29.8, lw= 59, c=pastel_colors[3], zorder=1) # Yellow\n",
        "plt.axvline(37.5, lw= 57, c=pastel_colors[4], zorder=1)\n",
        "plt.axvline(45.5, lw= 54, c=pastel_colors[5], zorder=1)\n",
        "plt.axvline(53.5, lw= 55, c=pastel_colors[6], zorder=1)\n",
        "\n",
        "#Extra pizzazz\n",
        "plt.grid(True, zorder=2)\n",
        "plt.xlim(-1,52)\n",
        "plt.ylabel('Relevance Value', size=12)\n",
        "plt.yticks(size=12)\n",
        "plt.xlabel('Questions', size=12)\n",
        "plt.xticks(q_ticks, [x+1 for x in q_ticks], size=12)\n",
        "plt.ylim(0,1.0)\n",
        "plt.savefig('Intermodel_CCA_questions.pdf',bbox_inches='tight')\n",
        "plt.show()\n",
        "\n",
        "# Show the plot\n",
        "plt.show()\n",
        "\n",
        "\n",
        "# X positions for the bars\n",
        "yy = np.arange(len(rel_y))\n",
        "\n",
        "# Create the plot\n",
        "fig, ax = plt.subplots()\n",
        "\n",
        "# Plotting two bars in the same position\n",
        "bar1 = ax.bar(yy - bar_width/2, rel_y, bar_width, label='CCA', color='#1f78b4', edgecolor='k', zorder=3)\n",
        "bar2 = ax.bar(yy + bar_width/2, Krel_y, bar_width, label='CCA K', color='#fe7f0e', edgecolor='k', zorder=3)\n",
        "\n",
        "# Add labels, title, and customizations\n",
        "ax.set_xlabel('Features')\n",
        "ax.set_ylabel('Relevance Value')\n",
        "#ax.set_xticks(xx)\n",
        "#ax.set_xticklabels(categories)\n",
        "ax.legend()\n",
        "\n",
        "# Show the plot\n",
        "\n",
        "#Extra pizzazz\n",
        "plt.grid(True, zorder=2)\n",
        "plt.xticks(np.arange(-1,37), np.arange(-1,37), rotation=90)\n",
        "from_ = (yy - bar_width-0.1)[[x for x in range(0,36,6)]]\n",
        "until_ = (yy + bar_width+0.1)[[x for x in range(5,36,6)]]\n",
        "plt.xticks(np.linspace(2.5,32.5,6), ['EEGNet', 'KREEGNet', 'KCS-FCNet', 'DeepConvNet', 'ShallowConvNet', 'TCFusion'], rotation=75, ha='right', size=12)\n",
        "plt.hlines([0.5]*6,from_, until_, colors=pastel_colors2, linewidths=275, zorder=1)\n",
        "plt.ylabel('Relevance Value', size=12)\n",
        "plt.yticks(size=12)\n",
        "plt.xlabel('Performance Measures', size=12)\n",
        "plt.xlim(-0.4,35.4)\n",
        "plt.ylim(bottom=0, top=1)\n",
        "plt.savefig('Intermodel_CCA.pdf',bbox_inches='tight')\n",
        "plt.show()\n",
        "\n",
        "plt.show()"
      ],
      "metadata": {
        "id": "--8jFWDEoGrz"
      },
      "execution_count": null,
      "outputs": []
    },
    {
      "cell_type": "code",
      "source": [
        "questionnaire_names[Krel_x >= 0.5], Krel_x[Krel_x >= 0.5]"
      ],
      "metadata": {
        "id": "egTd299UT91f"
      },
      "execution_count": null,
      "outputs": []
    },
    {
      "cell_type": "code",
      "source": [
        "np.where(Krel_y >= 0.05)[0]%6, np.where(rel_y >= 0.5)[0]%6"
      ],
      "metadata": {
        "id": "oqwHLnqaVDYX"
      },
      "execution_count": null,
      "outputs": []
    },
    {
      "cell_type": "code",
      "source": [
        "for var, info in zip(['XY_c', 'KXY_c', 'XY_N', 'KXY_N'], [XY_c, KXY_c, XY_N, KXY_N]):\n",
        "    print(f'np.trace({var}) = {np.trace(info):0.3f}')"
      ],
      "metadata": {
        "id": "qxTeP3g2iJcR"
      },
      "execution_count": null,
      "outputs": []
    },
    {
      "cell_type": "code",
      "source": [
        "XY_c.shape"
      ],
      "metadata": {
        "id": "dnbZU50OqzFd"
      },
      "execution_count": null,
      "outputs": []
    },
    {
      "cell_type": "code",
      "source": [
        "plt.imshow(XY_c)\n",
        "plt.colorbar()\n",
        "plt.show()\n",
        "\n",
        "plt.imshow(KXY_c)\n",
        "plt.colorbar()\n",
        "plt.show()\n",
        "\n",
        "plt.imshow(XY_N)\n",
        "plt.colorbar()\n",
        "plt.show()\n",
        "\n",
        "plt.imshow(KXY_N)\n",
        "plt.colorbar()\n",
        "plt.show()\n",
        "\n"
      ],
      "metadata": {
        "id": "LfqFJKm6o8uf"
      },
      "execution_count": null,
      "outputs": []
    },
    {
      "cell_type": "code",
      "source": [
        "!pip install umap-learn -q"
      ],
      "metadata": {
        "id": "wCuy-k6upQc8"
      },
      "execution_count": null,
      "outputs": []
    },
    {
      "cell_type": "code",
      "source": [
        "import umap\n",
        "# Make the affinity matrix symmetric (if it isn't already)\n",
        "affinity_matrix = np.abs(XY_N)\n",
        "affinity_matrix = (affinity_matrix + affinity_matrix.T) / 2\n",
        "\n",
        "# Ensure all diagonal elements are 1 (optional, based on specific use case)\n",
        "#np.fill_diagonal(affinity_matrix, 1)\n",
        "\n",
        "# UMAP projection to 2D using the precomputed affinity matrix\n",
        "reducer = umap.UMAP(n_neighbors=10, n_components=2, metric='precomputed')\n",
        "\n",
        "# Fit and transform the affinity matrix into 2D space\n",
        "embedding = reducer.fit_transform(affinity_matrix)\n",
        "\n",
        "embedding = pd.DataFrame(embedding,columns=['UMAP1','UMAP2'])\n",
        "embedding['Group'] = group_\n",
        "\n",
        "# Plotting the UMAP projection\n",
        "plt.figure(figsize=(8, 6))\n",
        "plt.scatter(embedding.iloc[:, 0], embedding.iloc[:, 1], c=metric_data[:,0], s=20, edgecolor='k')\n",
        "sns.kdeplot(\n",
        "    data=embedding, x=\"UMAP1\", y=\"UMAP2\", hue=\"Group\",\n",
        "    levels=3, thresh=.2,\n",
        ")\n",
        "plt.title('2D UMAP Projection CCA')\n",
        "plt.xlabel('UMAP Dimension 1')\n",
        "plt.ylabel('UMAP Dimension 2')\n",
        "plt.colorbar()\n",
        "plt.show()"
      ],
      "metadata": {
        "id": "bzQyjlZ5pY7J"
      },
      "execution_count": null,
      "outputs": []
    },
    {
      "cell_type": "code",
      "source": [
        "# Make the affinity matrix symmetric (if it isn't already)\n",
        "affinity_matrix = np.abs(KXY_N)\n",
        "\n",
        "affinity_matrix = (affinity_matrix + affinity_matrix.T) / 2\n",
        "\n",
        "# Ensure all diagonal elements are 1 (optional, based on specific use case)\n",
        "#np.fill_diagonal(affinity_matrix, 1)\n",
        "\n",
        "# UMAP projection to 2D using the precomputed affinity matrix\n",
        "reducer = umap.UMAP(n_neighbors=10, n_components=2, metric='precomputed')\n",
        "\n",
        "# Fit and transform the affinity matrix into 2D space\n",
        "embedding = reducer.fit_transform(affinity_matrix)\n",
        "\n",
        "embedding = pd.DataFrame(embedding,columns=['UMAP1','UMAP2'])\n",
        "embedding['Group'] = group_\n",
        "\n",
        "# Plotting the UMAP projection\n",
        "plt.figure(figsize=(8, 6))\n",
        "plt.scatter(embedding.iloc[:, 0], embedding.iloc[:, 1], c=metric_data[:,0], s=20, edgecolor='k')\n",
        "sns.kdeplot(\n",
        "    data=embedding, x=\"UMAP1\", y=\"UMAP2\", hue=\"Group\",\n",
        "    levels=3, thresh=.2,\n",
        ")\n",
        "plt.title('2D UMAP Projection CCA_K')\n",
        "plt.xlabel('UMAP Dimension 1')\n",
        "plt.ylabel('UMAP Dimension 2')\n",
        "plt.colorbar()\n",
        "plt.show()"
      ],
      "metadata": {
        "id": "ycRFNZAAreQG"
      },
      "execution_count": null,
      "outputs": []
    },
    {
      "cell_type": "code",
      "source": [
        "# UMAP projection to 2D using the precomputed affinity matrix\n",
        "reducer = umap.UMAP(n_neighbors=10, n_components=2, random_state=5)\n",
        "\n",
        "# Fit and transform the affinity matrix into 2D space\n",
        "embedding = reducer.fit_transform(metric_data)"
      ],
      "metadata": {
        "id": "SO1RUM4sr_b1"
      },
      "execution_count": null,
      "outputs": []
    },
    {
      "cell_type": "code",
      "source": [
        "embedding = pd.DataFrame(embedding,columns=['UMAP1','UMAP2'])\n",
        "embedding['Group'] = group_\n",
        "\n",
        "# Plotting the UMAP projection\n",
        "plt.figure(figsize=(8, 6))\n",
        "plt.scatter(embedding.iloc[:, 0], embedding.iloc[:, 1], c=metric_data[:,0], s=20, edgecolor='k')\n",
        "sns.kdeplot(\n",
        "    data=embedding, x=\"UMAP1\", y=\"UMAP2\", hue=\"Group\",\n",
        "    levels=3, thresh=.2,\n",
        ")\n",
        "plt.title('2D UMAP Projection Metric Data')\n",
        "plt.xlabel('UMAP Dimension 1')\n",
        "plt.ylabel('UMAP Dimension 2')\n",
        "plt.colorbar()\n",
        "plt.show()"
      ],
      "metadata": {
        "id": "pSi5ZhQYvpJY"
      },
      "execution_count": null,
      "outputs": []
    },
    {
      "cell_type": "code",
      "source": [
        "# UMAP projection to 2D using the precomputed affinity matrix\n",
        "reducer = umap.UMAP(n_neighbors=10, n_components=2)\n",
        "\n",
        "# Fit and transform the affinity matrix into 2D space\n",
        "embedding = reducer.fit_transform(norm_tabular)"
      ],
      "metadata": {
        "id": "Eph086fLuK7q"
      },
      "execution_count": null,
      "outputs": []
    },
    {
      "cell_type": "code",
      "source": [
        "# Plotting the UMAP projection\n",
        "embedding = pd.DataFrame(embedding,columns=['UMAP1','UMAP2'])\n",
        "embedding['Group'] = group_\n",
        "\n",
        "plt.figure(figsize=(8, 6))\n",
        "plt.scatter(embedding.iloc[:, 0], embedding.iloc[:, 1], c=metric_data[:,0], s=20, edgecolor='k')\n",
        "sns.kdeplot(\n",
        "    data=embedding, x=\"UMAP1\", y=\"UMAP2\", hue=\"Group\",\n",
        "    levels=3, thresh=.2,\n",
        ")\n",
        "plt.title('2D UMAP Projection Tabular Data')\n",
        "plt.xlabel('UMAP Dimension 1')\n",
        "plt.ylabel('UMAP Dimension 2')\n",
        "plt.colorbar()\n",
        "plt.show()"
      ],
      "metadata": {
        "id": "EJejhviGvtqf"
      },
      "execution_count": null,
      "outputs": []
    },
    {
      "cell_type": "code",
      "source": [],
      "metadata": {
        "id": "Px1zdmztuaAk"
      },
      "execution_count": null,
      "outputs": []
    }
  ]
}